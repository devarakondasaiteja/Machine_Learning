{
 "cells": [
  {
   "cell_type": "markdown",
   "id": "0d53953b",
   "metadata": {},
   "source": [
    "## KNN-- Purchased data"
   ]
  },
  {
   "cell_type": "code",
   "execution_count": 1,
   "id": "b6d7b48d",
   "metadata": {},
   "outputs": [],
   "source": [
    "import numpy as np\n",
    "import pandas as pd\n",
    "import matplotlib.pyplot as plt\n",
    "import seaborn as sns"
   ]
  },
  {
   "cell_type": "code",
   "execution_count": 2,
   "id": "00b1df08",
   "metadata": {},
   "outputs": [],
   "source": [
    "data = pd.read_csv(r\"C:\\Users\\Admin\\Downloads\\Data sets\\Purchase.csv\")"
   ]
  },
  {
   "cell_type": "code",
   "execution_count": 3,
   "id": "68b24564",
   "metadata": {},
   "outputs": [
    {
     "data": {
      "text/html": [
       "<div>\n",
       "<style scoped>\n",
       "    .dataframe tbody tr th:only-of-type {\n",
       "        vertical-align: middle;\n",
       "    }\n",
       "\n",
       "    .dataframe tbody tr th {\n",
       "        vertical-align: top;\n",
       "    }\n",
       "\n",
       "    .dataframe thead th {\n",
       "        text-align: right;\n",
       "    }\n",
       "</style>\n",
       "<table border=\"1\" class=\"dataframe\">\n",
       "  <thead>\n",
       "    <tr style=\"text-align: right;\">\n",
       "      <th></th>\n",
       "      <th>User ID</th>\n",
       "      <th>Gender</th>\n",
       "      <th>Age</th>\n",
       "      <th>EstimatedSalary</th>\n",
       "      <th>Purchased</th>\n",
       "    </tr>\n",
       "  </thead>\n",
       "  <tbody>\n",
       "    <tr>\n",
       "      <th>0</th>\n",
       "      <td>15624510</td>\n",
       "      <td>Male</td>\n",
       "      <td>19</td>\n",
       "      <td>19000</td>\n",
       "      <td>0</td>\n",
       "    </tr>\n",
       "    <tr>\n",
       "      <th>1</th>\n",
       "      <td>15810944</td>\n",
       "      <td>Male</td>\n",
       "      <td>35</td>\n",
       "      <td>20000</td>\n",
       "      <td>0</td>\n",
       "    </tr>\n",
       "    <tr>\n",
       "      <th>2</th>\n",
       "      <td>15668575</td>\n",
       "      <td>Female</td>\n",
       "      <td>26</td>\n",
       "      <td>43000</td>\n",
       "      <td>0</td>\n",
       "    </tr>\n",
       "    <tr>\n",
       "      <th>3</th>\n",
       "      <td>15603246</td>\n",
       "      <td>Female</td>\n",
       "      <td>27</td>\n",
       "      <td>57000</td>\n",
       "      <td>0</td>\n",
       "    </tr>\n",
       "    <tr>\n",
       "      <th>4</th>\n",
       "      <td>15804002</td>\n",
       "      <td>Male</td>\n",
       "      <td>19</td>\n",
       "      <td>76000</td>\n",
       "      <td>0</td>\n",
       "    </tr>\n",
       "  </tbody>\n",
       "</table>\n",
       "</div>"
      ],
      "text/plain": [
       "    User ID  Gender  Age  EstimatedSalary  Purchased\n",
       "0  15624510    Male   19            19000          0\n",
       "1  15810944    Male   35            20000          0\n",
       "2  15668575  Female   26            43000          0\n",
       "3  15603246  Female   27            57000          0\n",
       "4  15804002    Male   19            76000          0"
      ]
     },
     "execution_count": 3,
     "metadata": {},
     "output_type": "execute_result"
    }
   ],
   "source": [
    "data.head(5)"
   ]
  },
  {
   "cell_type": "code",
   "execution_count": 4,
   "id": "c9456e6e",
   "metadata": {},
   "outputs": [
    {
     "data": {
      "text/plain": [
       "(400, 5)"
      ]
     },
     "execution_count": 4,
     "metadata": {},
     "output_type": "execute_result"
    }
   ],
   "source": [
    "data.shape"
   ]
  },
  {
   "cell_type": "code",
   "execution_count": 5,
   "id": "c0eb9115",
   "metadata": {},
   "outputs": [
    {
     "data": {
      "text/plain": [
       "0    257\n",
       "1    143\n",
       "Name: Purchased, dtype: int64"
      ]
     },
     "execution_count": 5,
     "metadata": {},
     "output_type": "execute_result"
    }
   ],
   "source": [
    "data['Purchased'].value_counts()"
   ]
  },
  {
   "cell_type": "code",
   "execution_count": 6,
   "id": "4419f730",
   "metadata": {},
   "outputs": [
    {
     "data": {
      "text/plain": [
       "User ID            0\n",
       "Gender             0\n",
       "Age                0\n",
       "EstimatedSalary    0\n",
       "Purchased          0\n",
       "dtype: int64"
      ]
     },
     "execution_count": 6,
     "metadata": {},
     "output_type": "execute_result"
    }
   ],
   "source": [
    "data.isnull().sum()"
   ]
  },
  {
   "cell_type": "code",
   "execution_count": 7,
   "id": "62c02c1d",
   "metadata": {},
   "outputs": [
    {
     "data": {
      "text/html": [
       "<div>\n",
       "<style scoped>\n",
       "    .dataframe tbody tr th:only-of-type {\n",
       "        vertical-align: middle;\n",
       "    }\n",
       "\n",
       "    .dataframe tbody tr th {\n",
       "        vertical-align: top;\n",
       "    }\n",
       "\n",
       "    .dataframe thead th {\n",
       "        text-align: right;\n",
       "    }\n",
       "</style>\n",
       "<table border=\"1\" class=\"dataframe\">\n",
       "  <thead>\n",
       "    <tr style=\"text-align: right;\">\n",
       "      <th></th>\n",
       "      <th>User ID</th>\n",
       "      <th>Gender</th>\n",
       "      <th>Age</th>\n",
       "      <th>EstimatedSalary</th>\n",
       "      <th>Purchased</th>\n",
       "    </tr>\n",
       "  </thead>\n",
       "  <tbody>\n",
       "    <tr>\n",
       "      <th>0</th>\n",
       "      <td>15624510</td>\n",
       "      <td>1</td>\n",
       "      <td>19</td>\n",
       "      <td>19000</td>\n",
       "      <td>0</td>\n",
       "    </tr>\n",
       "    <tr>\n",
       "      <th>1</th>\n",
       "      <td>15810944</td>\n",
       "      <td>1</td>\n",
       "      <td>35</td>\n",
       "      <td>20000</td>\n",
       "      <td>0</td>\n",
       "    </tr>\n",
       "    <tr>\n",
       "      <th>2</th>\n",
       "      <td>15668575</td>\n",
       "      <td>0</td>\n",
       "      <td>26</td>\n",
       "      <td>43000</td>\n",
       "      <td>0</td>\n",
       "    </tr>\n",
       "  </tbody>\n",
       "</table>\n",
       "</div>"
      ],
      "text/plain": [
       "    User ID  Gender  Age  EstimatedSalary  Purchased\n",
       "0  15624510       1   19            19000          0\n",
       "1  15810944       1   35            20000          0\n",
       "2  15668575       0   26            43000          0"
      ]
     },
     "execution_count": 7,
     "metadata": {},
     "output_type": "execute_result"
    }
   ],
   "source": [
    "from sklearn.preprocessing import LabelEncoder\n",
    "lb = LabelEncoder()\n",
    "data['Gender'] = lb.fit_transform(data['Gender'])\n",
    "data.head(3)\n"
   ]
  },
  {
   "cell_type": "code",
   "execution_count": 8,
   "id": "624a8738",
   "metadata": {},
   "outputs": [
    {
     "data": {
      "image/png": "[encoded data removed]",
      "text/plain": [
       "<Figure size 720x720 with 2 Axes>"
      ]
     },
     "metadata": {
      "needs_background": "light"
     },
     "output_type": "display_data"
    }
   ],
   "source": [
    "plt.figure(figsize=(10,10))\n",
    "sns.heatmap(data.corr(),annot=True)\n",
    "plt.show()"
   ]
  },
  {
   "cell_type": "code",
   "execution_count": 9,
   "id": "313b282f",
   "metadata": {},
   "outputs": [],
   "source": [
    "x=data.drop(['User ID','Gender','Purchased'],axis = 'columns')\n",
    "y=data.Purchased"
   ]
  },
  {
   "cell_type": "code",
   "execution_count": 10,
   "id": "4872c7e6",
   "metadata": {},
   "outputs": [
    {
     "data": {
      "text/html": [
       "<div>\n",
       "<style scoped>\n",
       "    .dataframe tbody tr th:only-of-type {\n",
       "        vertical-align: middle;\n",
       "    }\n",
       "\n",
       "    .dataframe tbody tr th {\n",
       "        vertical-align: top;\n",
       "    }\n",
       "\n",
       "    .dataframe thead th {\n",
       "        text-align: right;\n",
       "    }\n",
       "</style>\n",
       "<table border=\"1\" class=\"dataframe\">\n",
       "  <thead>\n",
       "    <tr style=\"text-align: right;\">\n",
       "      <th></th>\n",
       "      <th>Age</th>\n",
       "      <th>EstimatedSalary</th>\n",
       "    </tr>\n",
       "  </thead>\n",
       "  <tbody>\n",
       "    <tr>\n",
       "      <th>0</th>\n",
       "      <td>19</td>\n",
       "      <td>19000</td>\n",
       "    </tr>\n",
       "    <tr>\n",
       "      <th>1</th>\n",
       "      <td>35</td>\n",
       "      <td>20000</td>\n",
       "    </tr>\n",
       "  </tbody>\n",
       "</table>\n",
       "</div>"
      ],
      "text/plain": [
       "   Age  EstimatedSalary\n",
       "0   19            19000\n",
       "1   35            20000"
      ]
     },
     "execution_count": 10,
     "metadata": {},
     "output_type": "execute_result"
    }
   ],
   "source": [
    "x.head(2)"
   ]
  },
  {
   "cell_type": "code",
   "execution_count": 11,
   "id": "547ca778",
   "metadata": {},
   "outputs": [
    {
     "data": {
      "text/plain": [
       "0    0\n",
       "1    0\n",
       "Name: Purchased, dtype: int64"
      ]
     },
     "execution_count": 11,
     "metadata": {},
     "output_type": "execute_result"
    }
   ],
   "source": [
    "y.head(2)"
   ]
  },
  {
   "cell_type": "code",
   "execution_count": 12,
   "id": "f6143c94",
   "metadata": {},
   "outputs": [],
   "source": [
    "from sklearn.model_selection import train_test_split"
   ]
  },
  {
   "cell_type": "code",
   "execution_count": 13,
   "id": "9fa45cdf",
   "metadata": {},
   "outputs": [],
   "source": [
    "x_train,x_test,y_train,y_test=train_test_split(x,y,test_size=0.20, random_state=4)"
   ]
  },
  {
   "cell_type": "code",
   "execution_count": 14,
   "id": "959097fe",
   "metadata": {},
   "outputs": [
    {
     "data": {
      "text/plain": [
       "((320, 2), (80, 2), (320,), (80,))"
      ]
     },
     "execution_count": 14,
     "metadata": {},
     "output_type": "execute_result"
    }
   ],
   "source": [
    "x_train.shape,x_test.shape,y_train.shape,y_test.shape"
   ]
  },
  {
   "cell_type": "code",
   "execution_count": 15,
   "id": "8b3183ef",
   "metadata": {},
   "outputs": [],
   "source": [
    "from sklearn.preprocessing import StandardScaler\n",
    "sc = StandardScaler()\n",
    "X_train = sc.fit_transform (x_train)\n",
    "X_test = sc.transform(x_test)"
   ]
  },
  {
   "cell_type": "markdown",
   "id": "dc3d0b72",
   "metadata": {},
   "source": [
    "### KNN"
   ]
  },
  {
   "cell_type": "code",
   "execution_count": 16,
   "id": "1f1fc60e",
   "metadata": {
    "scrolled": true
   },
   "outputs": [],
   "source": [
    "from sklearn.neighbors import KNeighborsClassifier\n",
    "knn = KNeighborsClassifier()\n",
    "knn.fit(X_train,y_train)\n",
    "y_test_knn = knn.predict(X_test)\n",
    "y_train_knn = knn.predict(X_train)"
   ]
  },
  {
   "cell_type": "code",
   "execution_count": 17,
   "id": "769a6d09",
   "metadata": {},
   "outputs": [],
   "source": [
    "from sklearn.metrics import accuracy_score, confusion_matrix, classification_report, auc,roc_curve"
   ]
  },
  {
   "cell_type": "code",
   "execution_count": 18,
   "id": "1ef50fe4",
   "metadata": {},
   "outputs": [
    {
     "name": "stdout",
     "output_type": "stream",
     "text": [
      "ACCURACY ON TEST SET: 0.8875\n",
      "[[53  6]\n",
      " [ 3 18]]\n",
      "              precision    recall  f1-score   support\n",
      "\n",
      "           0       0.95      0.90      0.92        59\n",
      "           1       0.75      0.86      0.80        21\n",
      "\n",
      "    accuracy                           0.89        80\n",
      "   macro avg       0.85      0.88      0.86        80\n",
      "weighted avg       0.89      0.89      0.89        80\n",
      "\n"
     ]
    }
   ],
   "source": [
    "#TEST SET\n",
    "print(\"ACCURACY ON TEST SET:\",accuracy_score(y_test,y_test_knn))\n",
    "print(confusion_matrix(y_test,y_test_knn))\n",
    "print(classification_report(y_test,y_test_knn))  # test set report\n"
   ]
  },
  {
   "cell_type": "code",
   "execution_count": 19,
   "id": "e5a6b0cf",
   "metadata": {},
   "outputs": [
    {
     "name": "stdout",
     "output_type": "stream",
     "text": [
      "ACCURACY ON TRAIN SET: 0.93125\n",
      "[[185  13]\n",
      " [  9 113]]\n",
      "              precision    recall  f1-score   support\n",
      "\n",
      "           0       0.95      0.93      0.94       198\n",
      "           1       0.90      0.93      0.91       122\n",
      "\n",
      "    accuracy                           0.93       320\n",
      "   macro avg       0.93      0.93      0.93       320\n",
      "weighted avg       0.93      0.93      0.93       320\n",
      "\n"
     ]
    }
   ],
   "source": [
    "# training set report\n",
    "print(\"ACCURACY ON TRAIN SET:\",accuracy_score(y_train,y_train_knn))\n",
    "print(confusion_matrix(y_train,y_train_knn))\n",
    "print(classification_report(y_train,y_train_knn))"
   ]
  },
  {
   "cell_type": "code",
   "execution_count": 20,
   "id": "7a09bfcb",
   "metadata": {},
   "outputs": [
    {
     "name": "stdout",
     "output_type": "stream",
     "text": [
      "accuracy at k= 1 is 0.7375\n",
      "accuracy at k= 2 is 0.7375\n",
      "accuracy at k= 3 is 0.7375\n",
      "accuracy at k= 4 is 0.7375\n",
      "accuracy at k= 5 is 0.7375\n",
      "accuracy at k= 6 is 0.7375\n",
      "accuracy at k= 7 is 0.7375\n",
      "accuracy at k= 8 is 0.7375\n",
      "accuracy at k= 9 is 0.7375\n",
      "accuracy at k= 10 is 0.7375\n",
      "accuracy at k= 11 is 0.7375\n",
      "accuracy at k= 12 is 0.7375\n",
      "accuracy at k= 13 is 0.7375\n",
      "accuracy at k= 14 is 0.7375\n",
      "accuracy at k= 15 is 0.7375\n",
      "accuracy at k= 16 is 0.7375\n",
      "accuracy at k= 17 is 0.7375\n",
      "accuracy at k= 18 is 0.7375\n",
      "accuracy at k= 19 is 0.7375\n",
      "accuracy at k= 20 is 0.7375\n",
      "accuracy at k= 21 is 0.7375\n",
      "accuracy at k= 22 is 0.7375\n",
      "accuracy at k= 23 is 0.7375\n",
      "accuracy at k= 24 is 0.7375\n"
     ]
    }
   ],
   "source": [
    "s = 25\n",
    "mean_acc =  np.zeros(s-1)\n",
    "for n in range(1,s):\n",
    "    model_knn = KNeighborsClassifier(n_neighbors = n).fit(x_train , y_train)   #train model and predict\n",
    "    y_hat = model_knn.predict(X_test)\n",
    "    mean_acc[n-1] = accuracy_score(y_test , y_hat)\n",
    "    print('accuracy at k=',n,'is',mean_acc[n-1]) "
   ]
  },
  {
   "cell_type": "code",
   "execution_count": 21,
   "id": "778d81f0",
   "metadata": {},
   "outputs": [
    {
     "data": {
      "image/png": "[encoded data removed]",
      "text/plain": [
       "<Figure size 432x288 with 1 Axes>"
      ]
     },
     "metadata": {
      "needs_background": "light"
     },
     "output_type": "display_data"
    }
   ],
   "source": [
    "plt.plot(range(1,s),mean_acc,'g')\n",
    "plt.ylabel('accuracy')\n",
    "plt.xlabel('number of neighbors(k)')\n",
    "plt.tight_layout()\n",
    "plt.show()"
   ]
  },
  {
   "cell_type": "code",
   "execution_count": 22,
   "id": "f6349277",
   "metadata": {},
   "outputs": [
    {
     "data": {
      "text/plain": [
       "[0.1625,\n",
       " 0.15,\n",
       " 0.1125,\n",
       " 0.1125,\n",
       " 0.1125,\n",
       " 0.1,\n",
       " 0.0875,\n",
       " 0.0875,\n",
       " 0.0875,\n",
       " 0.0875,\n",
       " 0.1,\n",
       " 0.0875,\n",
       " 0.0875,\n",
       " 0.0875,\n",
       " 0.0875,\n",
       " 0.0875,\n",
       " 0.0875,\n",
       " 0.1,\n",
       " 0.0875,\n",
       " 0.0875,\n",
       " 0.0875,\n",
       " 0.075,\n",
       " 0.075,\n",
       " 0.0875,\n",
       " 0.0875,\n",
       " 0.0875,\n",
       " 0.0875,\n",
       " 0.0875,\n",
       " 0.0875,\n",
       " 0.0875,\n",
       " 0.0875,\n",
       " 0.0875,\n",
       " 0.0875,\n",
       " 0.0875,\n",
       " 0.0875,\n",
       " 0.0875,\n",
       " 0.0875,\n",
       " 0.0875,\n",
       " 0.0875]"
      ]
     },
     "execution_count": 22,
     "metadata": {},
     "output_type": "execute_result"
    }
   ],
   "source": [
    "error=[]\n",
    "for i in range(1,40): #calculating error for k values between 1 and 40\n",
    "    knn=KNeighborsClassifier(n_neighbors=i)\n",
    "    knn.fit(X_train, y_train)\n",
    "    pred_i=knn.predict(X_test)\n",
    "    error.append(np.mean(pred_i != y_test))\n",
    "error"
   ]
  },
  {
   "cell_type": "markdown",
   "id": "da9381d8",
   "metadata": {},
   "source": [
    " k values and visualizing it to help your decision making."
   ]
  },
  {
   "cell_type": "code",
   "execution_count": 23,
   "id": "15a6e38e",
   "metadata": {},
   "outputs": [
    {
     "data": {
      "image/png": "[encoded data removed]",
      "text/plain": [
       "<Figure size 864x432 with 1 Axes>"
      ]
     },
     "metadata": {
      "needs_background": "light"
     },
     "output_type": "display_data"
    }
   ],
   "source": [
    "plt.figure(figsize=(12,6))\n",
    "plt.plot(range(1,40), error, color='red', linestyle='dashed', marker='8',markerfacecolor='blue',markersize=10)\n",
    "plt.title('error rate k value')\n",
    "plt.xlabel('k value')\n",
    "plt.ylabel('mean error');"
   ]
  },
  {
   "cell_type": "code",
   "execution_count": 24,
   "id": "029bf6aa",
   "metadata": {},
   "outputs": [],
   "source": [
    "from sklearn.neighbors import KNeighborsClassifier\n",
    "knn = KNeighborsClassifier(n_neighbors=7)\n",
    "knn.fit(X_train,y_train)\n",
    "y_test_knn = knn.predict(X_test)\n",
    "y_train_knn = knn.predict(X_train)"
   ]
  },
  {
   "cell_type": "code",
   "execution_count": 25,
   "id": "a47e5015",
   "metadata": {
    "scrolled": true
   },
   "outputs": [
    {
     "name": "stdout",
     "output_type": "stream",
     "text": [
      "ACCURACY ON TEST SET: 0.9125\n",
      "[[54  5]\n",
      " [ 2 19]]\n",
      "              precision    recall  f1-score   support\n",
      "\n",
      "           0       0.96      0.92      0.94        59\n",
      "           1       0.79      0.90      0.84        21\n",
      "\n",
      "    accuracy                           0.91        80\n",
      "   macro avg       0.88      0.91      0.89        80\n",
      "weighted avg       0.92      0.91      0.91        80\n",
      "\n"
     ]
    }
   ],
   "source": [
    "#test set report\n",
    "print(\"ACCURACY ON TEST SET:\",accuracy_score(y_test,y_test_knn))\n",
    "print(confusion_matrix(y_test,y_test_knn))\n",
    "print(classification_report(y_test,y_test_knn))  \n"
   ]
  },
  {
   "cell_type": "code",
   "execution_count": 26,
   "id": "ef19b12e",
   "metadata": {},
   "outputs": [
    {
     "name": "stdout",
     "output_type": "stream",
     "text": [
      "ACCURACY ON TRAIN SET: 0.91875\n",
      "[[186  12]\n",
      " [ 14 108]]\n",
      "              precision    recall  f1-score   support\n",
      "\n",
      "           0       0.93      0.94      0.93       198\n",
      "           1       0.90      0.89      0.89       122\n",
      "\n",
      "    accuracy                           0.92       320\n",
      "   macro avg       0.92      0.91      0.91       320\n",
      "weighted avg       0.92      0.92      0.92       320\n",
      "\n"
     ]
    }
   ],
   "source": [
    "# training set report\n",
    "print(\"ACCURACY ON TRAIN SET:\",accuracy_score(y_train,y_train_knn))\n",
    "print(confusion_matrix(y_train,y_train_knn))\n",
    "print(classification_report(y_train,y_train_knn)) "
   ]
  },
  {
   "cell_type": "markdown",
   "id": "c4ad9248",
   "metadata": {},
   "source": [
    "\n",
    "* For low values of k, the training score is high, while the testing score is low\n",
    "* As the value of k increases, the testing score starts to increase and the training score starts to decrease.\n",
    "* However, at some value of k, both the training score and the testing score are close to each other.\n",
    "\n"
   ]
  },
  {
   "cell_type": "code",
   "execution_count": null,
   "id": "09f3d633",
   "metadata": {},
   "outputs": [],
   "source": []
  }
 ],
 "metadata": {
  "kernelspec": {
   "display_name": "Python 3",
   "language": "python",
   "name": "python3"
  },
  "language_info": {
   "codemirror_mode": {
    "name": "ipython",
    "version": 3
   },
   "file_extension": ".py",
   "mimetype": "text/x-python",
   "name": "python",
   "nbconvert_exporter": "python",
   "pygments_lexer": "ipython3",
   "version": "3.8.8"
  }
 },
 "nbformat": 4,
 "nbformat_minor": 5
}
